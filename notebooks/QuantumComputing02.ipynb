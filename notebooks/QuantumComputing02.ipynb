{
  "nbformat": 4,
  "nbformat_minor": 0,
  "metadata": {
    "colab": {
      "private_outputs": true,
      "provenance": [],
      "toc_visible": true,
      "authorship_tag": "ABX9TyOUMZF5S3pV2Qd5i1Qphm6s",
      "include_colab_link": true
    },
    "kernelspec": {
      "name": "python3",
      "display_name": "Python 3"
    },
    "language_info": {
      "name": "python"
    }
  },
  "cells": [
    {
      "cell_type": "markdown",
      "metadata": {
        "id": "view-in-github",
        "colab_type": "text"
      },
      "source": [
        "<a href=\"https://colab.research.google.com/github/victor-von-pooh/QuantumComputingForOptimization/blob/main/notebooks/QuantumComputing02.ipynb\" target=\"_parent\"><img src=\"https://colab.research.google.com/assets/colab-badge.svg\" alt=\"Open In Colab\"/></a>"
      ]
    },
    {
      "cell_type": "markdown",
      "source": [
        "# Qiskitを使った量子最適化アルゴリズムの応用へ 〜パート2 量子もつれとアルゴリズム〜\n",
        "---\n",
        "こんにちは！  \n",
        "株式会社アイディオットでデータサイエンティストをしています、秋田と申します。  \n",
        "このシリーズは、量子最適化アルゴリズムを具体的な問題に対して使うことによって、量子コンピュータのユースケースとしてどんなものがありそうかを妄想することを目的に、量子コンピュータの基礎から学ぼうというものになります。  \n",
        "前回は量子計算の基礎を学び、それを基にQiskitを使って量子回路を作成・実行しました。  \n",
        "今回は、量子もつれに焦点を当てて、特殊な量子状態を生成してみましょう！"
      ],
      "metadata": {
        "id": "F5g8azxwirKJ"
      }
    },
    {
      "cell_type": "markdown",
      "source": [
        "## 量子もつれ\n",
        "---\n",
        "少し復習から入りましょう。  \n",
        "量子もつれとは、「テンソル積で表現できない状態」のことを指します。  \n",
        "例えば以下のベル状態\n",
        "\n",
        "$$\n",
        "\\frac{1}{\\sqrt{2}} \\left(|00\\rangle + |11\\rangle\\right) = \\frac{1}{\\sqrt{2}} \\begin{pmatrix} 1 \\\\ 0 \\\\ 0 \\\\ 1 \\end{pmatrix}\n",
        "$$\n",
        "\n",
        "は典型的な量子もつれでした。  \n",
        "これをビット数を増やす方向に少し拡張させたGHZ状態というものと、次の\n",
        "\n",
        "$$\n",
        "|W\\rangle = \\frac{1}{\\sqrt{n}} \\left(|100...0\\rangle + |010...0\\rangle + \\cdots + |000...1\\rangle\\right)\n",
        "$$\n",
        "\n",
        "という、 $n$ 個の量子ビットのうち1つのみを $|1\\rangle$ とする $n$ 個の量子もつれの状態を表しているW状態というものを今回はマスターしましょう！  \n",
        "まずはQiskitの環境を整えておきましょう。"
      ],
      "metadata": {
        "id": "G2k1PfcejUbN"
      }
    },
    {
      "cell_type": "code",
      "execution_count": null,
      "metadata": {
        "id": "b2tT9Jgxij18"
      },
      "outputs": [],
      "source": [
        "!pip3 install qiskit[visualization] qiskit-ibm-runtime qiskit-aer\n",
        "!pip3 install qiskit-algorithms qiskit-optimization"
      ]
    },
    {
      "cell_type": "code",
      "source": [
        "# ライブラリのインポート\n",
        "import numpy as np\n",
        "from qiskit import __version__, QuantumCircuit\n",
        "from qiskit.transpiler.preset_passmanagers import generate_preset_pass_manager\n",
        "from qiskit.visualization import plot_histogram\n",
        "from qiskit_aer import AerSimulator, StatevectorSimulator\n",
        "from qiskit_ibm_runtime import QiskitRuntimeService, SamplerV2"
      ],
      "metadata": {
        "id": "nLt_e7SHtLpO"
      },
      "execution_count": null,
      "outputs": []
    },
    {
      "cell_type": "code",
      "source": [
        "# Qiskitバージョン確認\n",
        "print(__version__)"
      ],
      "metadata": {
        "id": "_PGTOzJitNy2"
      },
      "execution_count": null,
      "outputs": []
    },
    {
      "cell_type": "markdown",
      "source": [
        "## GHZ状態\n",
        "---\n",
        "GHZ状態は、次のような量子もつれを表します。\n",
        "\n",
        "$$\n",
        "|GHZ\\rangle = \\frac{1}{\\sqrt{2}} \\left(|000...0\\rangle + |111...1\\rangle\\right)\n",
        "$$\n",
        "\n",
        "GHZ状態については、あくまでこれが一般的な表現であり、 $m$ 個目の量子ビットが反転していても同様にGHZ状態と言うことが出来ます。  \n",
        "ではまずは、3量子ビットのGHZ状態から作ってみましょう。\n",
        "\n",
        "$$\n",
        "|GHZ\\rangle = \\frac{1}{\\sqrt{2}} \\left(|000\\rangle + |111\\rangle\\right)\n",
        "$$\n",
        "\n",
        "GHZ状態はベル状態の拡張と言いました。  \n",
        "考え方は同じで、アダマールゲートを1つの量子ビットにかけた後、残りの2つにCNOTゲートがかかるようにすれば大丈夫です。"
      ],
      "metadata": {
        "id": "l1SXJTywtXRK"
      }
    },
    {
      "cell_type": "code",
      "source": [
        "# 3量子ビットの量子回路を作成\n",
        "ghz_3 = QuantumCircuit(3, 3)\n",
        "\n",
        "# GHZ状態の作成\n",
        "ghz_3.h(0)\n",
        "ghz_3.cx(0, 1)\n",
        "ghz_3.cx(1, 2) # 1番目の量子ビットは既に0番目の量子ビットともつれているので、制御量子ビットは0, 1のどちらでも良い\n",
        "\n",
        "# 測定\n",
        "for i in range(3):\n",
        "    ghz_3.measure(i, i)\n",
        "\n",
        "# 量子回路を図(画像)で表示\n",
        "ghz_3.draw(\"mpl\")"
      ],
      "metadata": {
        "id": "1pNWksVW8lJq"
      },
      "execution_count": null,
      "outputs": []
    },
    {
      "cell_type": "markdown",
      "source": [
        "ベル状態を作るときと同じように進めると、 $0$ 番目と $1$ 番目の量子ビットは既にエンタングル状態なので、 $2$ 番目の量子ビットをさらにもつれさせるのにどちらの量子ビットを制御量子ビットとしても構いません。  \n",
        "見栄えを重視すると階段状になっているのが良いかなと思いました。  \n",
        "さて、これで本当にGHZ状態になっているのかを測定して確かめてみましょう！"
      ],
      "metadata": {
        "id": "0qlAbbNn-P0W"
      }
    },
    {
      "cell_type": "code",
      "source": [
        "# バックエンドにシミュレータを設定\n",
        "backend = AerSimulator()\n",
        "\n",
        "# Sampler を使用しシミュレーション\n",
        "sampler = SamplerV2(backend)\n",
        "result = sampler.run([ghz_3], shots=1024).result() # 1024回測定を行う\n",
        "\n",
        "# 測定結果の出力\n",
        "counts = result[0].data.c.get_counts()\n",
        "print(counts)\n",
        "\n",
        "# ヒストグラムを描画\n",
        "plot_histogram(counts)"
      ],
      "metadata": {
        "id": "AAASXZ_K93fj"
      },
      "execution_count": null,
      "outputs": []
    },
    {
      "cell_type": "markdown",
      "source": [
        "量子状態 $|000\\rangle$ と $|111\\rangle$ がほぼ等確率で測定されているのが確認出来ました！  \n",
        "それでは、今度はちょっと多くなって $8$ 量子ビットのGHZ状態を生成してみましょう。  \n",
        "やることは同じなので簡単ですね！"
      ],
      "metadata": {
        "id": "M97znfra_SHp"
      }
    },
    {
      "cell_type": "code",
      "source": [
        "# 8量子ビットの量子回路を作成\n",
        "ghz_8 = QuantumCircuit(8, 8)\n",
        "\n",
        "# アダマールゲートを作用\n",
        "ghz_8.h(0)\n",
        "\n",
        "# 再帰的にCNOTゲートを作用\n",
        "for i in range(7):\n",
        "    ghz_8.cx(i, i + 1)\n",
        "\n",
        "# バリアを使用\n",
        "ghz_8.barrier()\n",
        "\n",
        "# 測定\n",
        "for i in range(8):\n",
        "    ghz_8.measure(i, i)\n",
        "\n",
        "# 量子回路を図(画像)で表示\n",
        "ghz_8.draw(\"mpl\")"
      ],
      "metadata": {
        "id": "BkquX72B_yqi"
      },
      "execution_count": null,
      "outputs": []
    },
    {
      "cell_type": "markdown",
      "source": [
        "途中でバリアというものを使用していますが、これは量子回路の見栄えを良くするために書いていると理解してください。  \n",
        "この量子回路上で何か影響があるわけではありません。  \n",
        "それでは測定をして確かめてみましょう！"
      ],
      "metadata": {
        "id": "f36O3vU9AvOg"
      }
    },
    {
      "cell_type": "code",
      "source": [
        "# バックエンドにシミュレータを設定\n",
        "backend = AerSimulator()\n",
        "\n",
        "# Sampler を使用しシミュレーション\n",
        "sampler = SamplerV2(backend)\n",
        "result = sampler.run([ghz_8], shots=1024).result() # 1024回測定を行う\n",
        "\n",
        "# 測定結果の出力\n",
        "counts = result[0].data.c.get_counts()\n",
        "print(counts)\n",
        "\n",
        "# ヒストグラムを描画\n",
        "plot_histogram(counts)"
      ],
      "metadata": {
        "id": "2IvP71_XBM9i"
      },
      "execution_count": null,
      "outputs": []
    },
    {
      "cell_type": "markdown",
      "source": [
        "$8$ 量子ビットの場合も同じように確認出来ました！  \n",
        "さて、ここで量子回路の「深さ」というものの考え方を導入しましょう。  \n",
        "先ほど作った `ghz_8` の深さを `depth()` メソッドで確認してみましょう。"
      ],
      "metadata": {
        "id": "T0FYzLHoBSTx"
      }
    },
    {
      "cell_type": "code",
      "source": [
        "# 量子回路の深さ\n",
        "print(f\"Depth:\\t{ghz_8.depth()}\")"
      ],
      "metadata": {
        "id": "RxR3coSGCegj"
      },
      "execution_count": null,
      "outputs": []
    },
    {
      "cell_type": "markdown",
      "source": [
        "普通、アルゴリズムを扱う上で「計算量」というものを気にします。  \n",
        "これは、コンピュータでの負荷を抑え、高速に計算することや、メモリを確保するためにより良いアルゴリズムを考えるというものです。  \n",
        "量子コンピュータでのプログラミングも例外ではなく、量子回路を設計する際にその量子回路の深さをなるべく浅く(少なく)することを心がけましょう。  \n",
        "例えば、 $S$ ゲートというものがあり、これを2個続けて同じ量子ビットに作用させるとそれは $Z$ ゲート1個を作用させるのと等価になります。  \n",
        "それであれば、 $S$ ゲートを2個続けてかけるより $Z$ ゲートを1個かけてあげる方が計算量は少なくて済むと考えられます。  \n",
        "より浅い回路が出来ないかを調べてみましょう！"
      ],
      "metadata": {
        "id": "sy90moXaCvob"
      }
    },
    {
      "cell_type": "code",
      "source": [
        "# 8量子ビットの量子回路を作成\n",
        "ghz_8_shallow = QuantumCircuit(8, 8)\n",
        "\n",
        "# アダマールゲートを作用\n",
        "ghz_8_shallow.h(0)\n",
        "\n",
        "# CNOTゲートのかけ方を工夫\n",
        "ghz_8_shallow.cx(0, 1)\n",
        "ghz_8_shallow.cx(0, 2)\n",
        "ghz_8_shallow.cx(1, 3)\n",
        "ghz_8_shallow.cx(0, 4)\n",
        "ghz_8_shallow.cx(1, 5)\n",
        "ghz_8_shallow.cx(2, 6)\n",
        "ghz_8_shallow.cx(3, 7)\n",
        "\n",
        "# バリアを使用\n",
        "ghz_8_shallow.barrier()\n",
        "\n",
        "# 測定\n",
        "for i in range(8):\n",
        "    ghz_8_shallow.measure(i, i)\n",
        "\n",
        "# 量子回路を図(画像)で表示\n",
        "ghz_8_shallow.draw(\"mpl\")"
      ],
      "metadata": {
        "id": "yG_k8l6MEB51"
      },
      "execution_count": null,
      "outputs": []
    },
    {
      "cell_type": "code",
      "source": [
        "# バックエンドにシミュレータを設定\n",
        "backend = AerSimulator()\n",
        "\n",
        "# Sampler を使用しシミュレーション\n",
        "sampler = SamplerV2(backend)\n",
        "result = sampler.run([ghz_8_shallow], shots=1024).result() # 1024回測定を行う\n",
        "\n",
        "# 測定結果の出力\n",
        "counts = result[0].data.c.get_counts()\n",
        "print(counts)\n",
        "\n",
        "# ヒストグラムを描画\n",
        "plot_histogram(counts)"
      ],
      "metadata": {
        "id": "Xm6ScT9JGgXs"
      },
      "execution_count": null,
      "outputs": []
    },
    {
      "cell_type": "markdown",
      "source": [
        "一見するとあまり変わらないように見えますが、このプログラムでは、1度もつれさせた量子ビットをなるべく満遍なく再利用することを考えています。  \n",
        "例えば、\n",
        "\n",
        "```\n",
        "ghz_8_shallow.cx(0, 4)\n",
        "ghz_8_shallow.cx(1, 5)\n",
        "ghz_8_shallow.cx(2, 6)\n",
        "ghz_8_shallow.cx(3, 7)\n",
        "```\n",
        "\n",
        "ここの部分では、量子ビットのインデックス番号が1つも被っていません。  \n",
        "これは、それぞれのゲート作用が並行して行われていることを意味します。  \n",
        "一方で、先ほどの量子回路では、すべてが繋がった(線形の)ゲート作用のし方をしているため、1つ前の計算が行われてからでないと先に進めないという構造をしています。  \n",
        "新しい方法では、対数を用いたアルゴリズムを用いているため、線形のものより圧倒的に計算量を抑えることが出来ます！  \n",
        "実際に深さを確認してみましょう。"
      ],
      "metadata": {
        "id": "9TFwjmfcE2Jh"
      }
    },
    {
      "cell_type": "code",
      "source": [
        "# 量子回路の深さ\n",
        "print(f\"Depth:\\t{ghz_8_shallow.depth()}\")"
      ],
      "metadata": {
        "id": "oUGTM_T1Gc1e"
      },
      "execution_count": null,
      "outputs": []
    },
    {
      "cell_type": "markdown",
      "source": [
        "これで浅い回路が出来たことも確認出来ました！  \n",
        "先ほどのプログラムだと、形が汚いので次のように関数を定めましょう。"
      ],
      "metadata": {
        "id": "8syMVmB0GtXm"
      }
    },
    {
      "cell_type": "code",
      "source": [
        "def find_control(value: int) -> int:\n",
        "    \"\"\"\n",
        "    制御量子ビットのインデックスを取得する関数\n",
        "\n",
        "    Parameters\n",
        "    ----------\n",
        "    value: int\n",
        "        ターゲット量子ビットのインデックス\n",
        "\n",
        "    Returns\n",
        "    ----------\n",
        "    rem: int\n",
        "        制御量子ビットのインデックス\n",
        "    \"\"\"\n",
        "    # 2の累乗で value 以下の最大の値を求める\n",
        "    power_of_two = 1\n",
        "    while power_of_two * 2 <= value:\n",
        "        power_of_two *= 2\n",
        "\n",
        "    # value を最大の2の累乗で割った余りを求める\n",
        "    rem = value % power_of_two\n",
        "\n",
        "    return rem"
      ],
      "metadata": {
        "id": "mppsaiB3RYm3"
      },
      "execution_count": null,
      "outputs": []
    },
    {
      "cell_type": "markdown",
      "source": [
        "先ほどのプログラムを修正します。"
      ],
      "metadata": {
        "id": "KwcD80rvYzZd"
      }
    },
    {
      "cell_type": "code",
      "source": [
        "# 8量子ビットの量子回路を作成\n",
        "ghz_8_shallow_rec = QuantumCircuit(8, 8)\n",
        "\n",
        "# GHZ状態の生成\n",
        "ghz_8_shallow_rec.h(0)\n",
        "for i in range(7):\n",
        "    rem = find_control(i + 1)\n",
        "    ghz_8_shallow_rec.cx(rem, i + 1)\n",
        "\n",
        "# バリアを使用\n",
        "ghz_8_shallow_rec.barrier()\n",
        "\n",
        "# 測定\n",
        "for i in range(8):\n",
        "    ghz_8_shallow_rec.measure(i, i)\n",
        "\n",
        "# 量子回路を図(画像)で表示\n",
        "ghz_8_shallow_rec.draw(\"mpl\")"
      ],
      "metadata": {
        "id": "p7uvq6SoY2sK"
      },
      "execution_count": null,
      "outputs": []
    },
    {
      "cell_type": "markdown",
      "source": [
        "だいぶスッキリしましたね！"
      ],
      "metadata": {
        "id": "cjFrfr9bZVM7"
      }
    },
    {
      "cell_type": "markdown",
      "source": [
        "## W状態\n",
        "---\n",
        "今度は、W状態について考えてみましょう。  \n",
        "こちらもGHZ状態同様に、線形の作り方と対数の作り方の2種類を学びましょう。  \n",
        "まずは線形のやり方から始めます。  \n",
        "初めに、 $0$ 番目の量子ビットに $X$ ゲートをかけ、 $|100...0\\rangle$ とします。  \n",
        "その後、次の式を満たす回転ゲートを用意します。\n",
        "\n",
        "$$\n",
        "G(p) := \\begin{pmatrix} \\sqrt{p} & -\\sqrt{1 - p} \\\\ \\sqrt{1 - p} & \\sqrt{p} \\end{pmatrix}\n",
        "$$\n",
        "\n",
        "ここで $p$ は $0 < p < 1$ を満たすパラメータです。  \n",
        "これは $R_y$ ゲートなので、 $\\sqrt{p} = \\cos\\left(\\frac{\\theta'}{2}\\right)$ を満たす $\\theta'$ を見つけます。  \n",
        "実はそれほど難しくなく、 $\\frac{\\theta'}{2} = \\arccos(\\sqrt{p})$ なのですぐに見つかります(ただし、これが許容出来る近似値であることには注意が必要)。  \n",
        "続いて、これを使って次の変換を行うための量子ゲートのブロック $B(p)$ を定義します。\n",
        "\n",
        "$$\n",
        "B(p) |00\\rangle = |00\\rangle, \\quad B(p) |10\\rangle = \\sqrt{p} \\space |10\\rangle + \\sqrt{1 - p} \\space |01\\rangle\n",
        "$$\n",
        "\n",
        "これは、1つ目の量子ビットが $|0\\rangle$ のときは2つ目の量子ビットに何もせず、1つ目の量子ビットが $|1\\rangle$ のときは確率 $p$ でそのまま、確率 $1 - p$ で2つ目の量子ビットを反転させています。  \n",
        "1つ目の量子ビットを制御量子ビットとした $2$ 量子ビットゲートを使っていることが分かりますね！  \n",
        "しかし、残念ながら1つの $2$ 量子ビットゲートでは上記後半の式変換は出来ないので、2つの $2$ 量子ビットゲートを段階的にかけることで完成させましょう。  \n",
        "1つ目の量子ゲートは、先に定義した $G(p)$ を埋め込んだ次の $CG(p)$ ゲートを使います。\n",
        "\n",
        "$$\n",
        "\\begin{aligned}\n",
        "    CG(p) &:= \\begin{pmatrix} 1 & 0 & 0 & 0 \\\\ 0 & 1 & 0 & 0 \\\\ 0 & 0 & \\sqrt{p} & -\\sqrt{1 - p} \\\\ 0 & 0 & \\sqrt{1 - p} & \\sqrt{p} \\end{pmatrix}, \\\\ \\\\\n",
        "    CG(p) &:\n",
        "    \\left\\{\n",
        "            \\begin{array}{l}\n",
        "                |00\\rangle \\rightarrow |00\\rangle \\\\\n",
        "                |01\\rangle \\rightarrow |01\\rangle \\\\\n",
        "                |10\\rangle \\rightarrow \\sqrt{p} \\space |10\\rangle + \\sqrt{1 - p} \\space |11\\rangle \\\\\n",
        "                |11\\rangle \\rightarrow \\sqrt{p} \\space |11\\rangle - \\sqrt{1 - p} \\space |10\\rangle\n",
        "            \\end{array}\n",
        "    \\right.\n",
        "\\end{aligned}\n",
        "$$\n",
        "\n",
        "ここで、 $|01\\rangle \\rightarrow |01\\rangle, |11\\rangle \\rightarrow \\sqrt{p} \\space |11\\rangle - \\sqrt{1 - p} \\space |10\\rangle$ の変換は今は考える必要がありません。  \n",
        "次に、今度は2つ目の量子ビットを制御量子ビット、1つ目の量子ビットをターゲット量子ビットとしたCNOTゲートを作用させることで、\n",
        "\n",
        "$$\n",
        "\\sqrt{p} \\space |10\\rangle + \\sqrt{1 - p} \\space |11\\rangle \\rightarrow \\sqrt{p} \\space |10\\rangle + \\sqrt{1 - p} \\space |01\\rangle\n",
        "$$\n",
        "\n",
        "となります。  \n",
        "よって先ほどの量子ゲート $B(p)$ は、\n",
        "\n",
        "$$\n",
        "B(p) = \\text{CNOT}_{1, 0} \\space CG(p)_{0, 1}\n",
        "$$\n",
        "\n",
        "として表せます。  \n",
        "この $B(p)$ を階段状に順番にかけていくことでW状態は出来るので、例として $4$ 量子ビットのW状態を作ってみましょう！  \n",
        "まずは以下の初期状態 $| \\Psi_0 \\rangle$ を用意します。\n",
        "\n",
        "$$\n",
        "| \\Psi_0 \\rangle = |0000\\rangle\n",
        "$$\n",
        "\n",
        "ここから、1つ目の量子ビットに $X$ ゲートをかけて\n",
        "\n",
        "$$\n",
        "| \\Psi_1 \\rangle = |1000\\rangle\n",
        "$$\n",
        "\n",
        "とします。  \n",
        "理想とするW状態は\n",
        "\n",
        "$$\n",
        "|W\\rangle = \\sqrt{\\frac{1}{4}} \\space |1000\\rangle + \\sqrt{\\frac{1}{4}} \\space |0100\\rangle + \\sqrt{\\frac{1}{4}} \\space |0010\\rangle + \\sqrt{\\frac{1}{4}} \\space |0001\\rangle\n",
        "$$\n",
        "\n",
        "なので、 $|1000\\rangle$ の係数としては $\\sqrt{\\frac{1}{4}}$ を残したいですね。  \n",
        "よってここでは $p = \\frac{1}{4}$ とし、\n",
        "\n",
        "$$\n",
        "| \\Psi_2 \\rangle = B \\left( \\frac{1}{4} \\right) |10\\rangle \\otimes |00\\rangle = \\sqrt{\\frac{1}{4}} \\space |1000\\rangle + \\sqrt{\\frac{3}{4}} \\space |0100\\rangle\n",
        "$$\n",
        "\n",
        "とします。  \n",
        "続いて、 $|0100\\rangle$ の係数を $\\sqrt{\\frac{1}{4}}$ にするために $p = \\frac{1}{3}$ とし、\n",
        "\n",
        "$$\n",
        "\\begin{aligned}\n",
        "    | \\Psi_3 \\rangle &= \\sqrt{\\frac{1}{4}} \\left( |1\\rangle \\otimes B \\left( \\frac{1}{3} \\right) |00\\rangle \\otimes |0\\rangle \\right) + \\sqrt{\\frac{3}{4}} \\left( |0\\rangle \\otimes B \\left( \\frac{1}{3} \\right) |10\\rangle \\otimes |0\\rangle \\right) \\\\\n",
        "    &= \\sqrt{\\frac{1}{4}} \\space |1000\\rangle + \\sqrt{\\frac{3}{4} \\frac{1}{3}} \\space |0100\\rangle + \\sqrt{\\frac{3}{4} \\frac{2}{3}} \\space |0010\\rangle\n",
        "\\end{aligned}\n",
        "$$\n",
        "\n",
        "とします。  \n",
        "最後に $|0010\\rangle$ の係数を $\\sqrt{\\frac{1}{4}}$ にするために $p = \\frac{1}{2}$ とすると、\n",
        "\n",
        "$$\n",
        "\\begin{aligned}\n",
        "    | \\Psi_4 \\rangle &= \\sqrt{\\frac{1}{4}} \\left( |10\\rangle \\otimes B \\left( \\frac{1}{2} \\right) |00\\rangle \\right) + \\sqrt{\\frac{3}{4} \\frac{1}{3}} \\left( |01\\rangle \\otimes B \\left( \\frac{1}{2} \\right) |00\\rangle \\right) + \\sqrt{\\frac{3}{4} \\frac{2}{3}} \\left( |00\\rangle \\otimes B \\left( \\frac{1}{2} \\right) |10\\rangle \\right)\\\\\n",
        "    &= \\sqrt{\\frac{1}{4}} \\space |1000\\rangle + \\sqrt{\\frac{3}{4} \\frac{1}{3}} \\space |0100\\rangle + \\sqrt{\\frac{3}{4} \\frac{2}{3} \\frac{1}{2}} \\space |0010\\rangle + \\sqrt{\\frac{3}{4} \\frac{2}{3} \\frac{1}{2}} \\space |0001\\rangle \\\\\n",
        "    &= |W\\rangle\n",
        "\\end{aligned}\n",
        "$$\n",
        "\n",
        "となりました！"
      ],
      "metadata": {
        "id": "v98iX4IfZ34d"
      }
    },
    {
      "cell_type": "code",
      "source": [
        "# 量子ビット数を指定\n",
        "n = 4\n",
        "\n",
        "# W状態のエンタングルメントの係数\n",
        "prob_amp = np.sqrt(1 / n)\n",
        "\n",
        "# n量子ビットの量子回路を作成\n",
        "w_n = QuantumCircuit(n, n)\n",
        "\n",
        "# W状態の作成\n",
        "w_n.x(0)\n",
        "for i in range(n - 1):\n",
        "    comp_amp = np.sqrt(1 - i / n)\n",
        "    rot_ang = 2 * np.arccos(prob_amp / (comp_amp)) # 回転角の大きさを係数から判定\n",
        "    w_n.cry(rot_ang, i, i + 1) # cryゲートがCG(p)に相当する\n",
        "    w_n.cx(i + 1, i)\n",
        "\n",
        "# バリアを使用\n",
        "w_n.barrier()\n",
        "\n",
        "# 測定\n",
        "for i in range(n):\n",
        "    w_n.measure(i, i)\n",
        "\n",
        "# 量子回路を図(画像)で表示\n",
        "w_n.draw(\"mpl\")"
      ],
      "metadata": {
        "id": "G7Fen-o8nVrs"
      },
      "execution_count": null,
      "outputs": []
    },
    {
      "cell_type": "code",
      "source": [
        "# バックエンドにシミュレータを設定\n",
        "backend = AerSimulator()\n",
        "\n",
        "# Sampler を使用しシミュレーション\n",
        "sampler = SamplerV2(backend)\n",
        "result = sampler.run([w_n], shots=1024).result() # 1024回測定を行う\n",
        "\n",
        "# 測定結果の出力\n",
        "counts = result[0].data.c.get_counts()\n",
        "print(counts)\n",
        "\n",
        "# ヒストグラムを描画\n",
        "plot_histogram(counts)"
      ],
      "metadata": {
        "id": "6g1VxhzRpL_z"
      },
      "execution_count": null,
      "outputs": []
    },
    {
      "cell_type": "markdown",
      "source": [
        "W状態が確認出来ました！  \n",
        "では、この量子回路の深さを確認しましょう。  \n",
        "比較がしやすいように量子ビット数を $8$ に固定したものを再度実行します。"
      ],
      "metadata": {
        "id": "p850VkjIqXaP"
      }
    },
    {
      "cell_type": "code",
      "source": [
        "# W状態のエンタングルメントの係数\n",
        "prob_amp = np.sqrt(1 / 8)\n",
        "\n",
        "# 8量子ビットの量子回路を作成\n",
        "w_8 = QuantumCircuit(8, 8)\n",
        "\n",
        "# W状態の作成\n",
        "w_8.x(0)\n",
        "for i in range(7):\n",
        "    comp_amp = np.sqrt(1 - i / 8)\n",
        "    rot_ang = 2 * np.arccos(prob_amp / (comp_amp)) # 回転角の大きさを係数から判定\n",
        "    w_8.cry(rot_ang, i, i + 1) # cryゲートがCG(p)に相当する\n",
        "    w_8.cx(i + 1, i)\n",
        "\n",
        "# バリアを使用\n",
        "w_8.barrier()\n",
        "\n",
        "# 測定\n",
        "for i in range(8):\n",
        "    w_8.measure(i, i)\n",
        "\n",
        "# 量子回路を図(画像)で表示\n",
        "w_8.draw(\"mpl\")"
      ],
      "metadata": {
        "id": "T3hdk0i5sK85"
      },
      "execution_count": null,
      "outputs": []
    },
    {
      "cell_type": "code",
      "source": [
        "# 量子回路の深さ\n",
        "print(f\"Depth:\\t{w_8.depth()}\")"
      ],
      "metadata": {
        "id": "gmR_Gq6iq9w-"
      },
      "execution_count": null,
      "outputs": []
    },
    {
      "cell_type": "markdown",
      "source": [
        "GHZ状態のときと同様に、より浅い量子回路を作成するために対数を用いた作り方を考えてみましょう。  \n",
        "基本的にはGHZ状態でやったように、以下の部分の量子ビットの組み合わせを変えれば出来そうですね。\n",
        "\n",
        "```\n",
        "w_8.cry(rot_ang, i, i + 1)\n",
        "w_8.cx(i + 1, i)\n",
        "```"
      ],
      "metadata": {
        "id": "hzTRGfq2rKH7"
      }
    },
    {
      "cell_type": "code",
      "source": [
        "# W状態のエンタングルメントの係数\n",
        "prob_amp = np.sqrt(1 / 8)\n",
        "\n",
        "# 8量子ビットの量子回路を作成\n",
        "w_8_shallow = QuantumCircuit(8, 8)\n",
        "\n",
        "# W状態の作成\n",
        "w_8_shallow.x(0)\n",
        "for i in range(7):\n",
        "    comp_amp = np.sqrt(1 - i / 8)\n",
        "    rot_ang = 2 * np.arccos(prob_amp / (comp_amp)) # 回転角の大きさを係数から判定\n",
        "    rem = find_control(i + 1)\n",
        "    w_8_shallow.cry(rot_ang, rem, i + 1) # cryゲートがCG(p)に相当する\n",
        "    w_8_shallow.cx(i + 1, rem)\n",
        "\n",
        "# バリアを使用\n",
        "w_8_shallow.barrier()\n",
        "\n",
        "# 測定\n",
        "for i in range(8):\n",
        "    w_8_shallow.measure(i, i)\n",
        "\n",
        "# 量子回路を図(画像)で表示\n",
        "w_8_shallow.draw(\"mpl\")"
      ],
      "metadata": {
        "id": "BuZRrbH4s4-O"
      },
      "execution_count": null,
      "outputs": []
    },
    {
      "cell_type": "code",
      "source": [
        "# 量子回路の深さ\n",
        "print(f\"Depth:\\t{w_8_shallow.depth()}\")"
      ],
      "metadata": {
        "id": "uWpN9EgptheW"
      },
      "execution_count": null,
      "outputs": []
    },
    {
      "cell_type": "markdown",
      "source": [
        "だいぶ浅くなりましたね！"
      ],
      "metadata": {
        "id": "OJvwI8qJt3d_"
      }
    }
  ]
}
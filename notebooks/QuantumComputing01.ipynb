{
  "cells": [
    {
      "cell_type": "markdown",
      "metadata": {
        "colab_type": "text",
        "id": "view-in-github"
      },
      "source": [
        "<a href=\"https://colab.research.google.com/github/victor-von-pooh/QuantumComputingForOptimization/blob/main/notebooks/QuantumComputing01.ipynb\" target=\"_parent\"><img src=\"https://colab.research.google.com/assets/colab-badge.svg\" alt=\"Open In Colab\"/></a>"
      ]
    },
    {
      "cell_type": "markdown",
      "metadata": {
        "id": "wE7TclkPuRI2"
      },
      "source": [
        "# Qiskitを使った量子最適化アルゴリズムの応用へ 〜パート1 量子計算の基礎〜\n",
        "---\n",
        "こんにちは！  \n",
        "株式会社アイディオットでデータサイエンティストをしています、秋田と申します。  \n",
        "このシリーズは、量子最適化アルゴリズムを具体的な問題に対して使うことによって、量子コンピュータのユースケースとしてどんなものがありそうかを妄想することを目的に、量子コンピュータの基礎から学ぼうというものになります。  \n",
        "その上で、IBM社が開発している量子コンピューティング用SDKのQiskitの使い方を学びながら、どのように量子計算が行われているのかを体験しましょう！  \n",
        "また参考までに、以前行った「[初めてQiskitを使ってからQiskitで量子機械学習ができるようになるまで](https://qiita.com/Hiroki_Akita/items/88028c3f400476473d62)」シリーズも是非見てみてください(バージョン的に古いかもですが...)。"
      ]
    },
    {
      "cell_type": "markdown",
      "metadata": {
        "id": "wBei623L4PmN"
      },
      "source": [
        "## 量子コンピュータとは\n",
        "---\n",
        "### 量子コンピュータのオリジン\n",
        "そもそも量子コンピュータとは、一体どのようなコンピュータなのでしょうか。  \n",
        "量子コンピュータの対比として、従来のコンピュータを古典コンピュータなどと言いますが、簡単に言うと「量子力学の理論に基づいたコンピュータ」のことです。  \n",
        "物理学の世界では、ニュートンが落ちるリンゴを見て運動方程式を見つけたような古典力学の他に、ミクロな世界でのみ適用されるような説明が難しい現象を取り扱う量子力学というものがあります。  \n",
        "これらは自然現象を解明するために日々研究されている分野になりますが、同時にコンピュータというものも自然を模倣するように考えられています。  \n",
        "古典コンピュータが古典力学を反映させているのだとしたら、量子力学に対応するようなコンピュータがあっても良いだろうという考えから生み出されたのが量子コンピュータです。\n",
        "\n",
        "---\n",
        "### 量子コンピュータは万能なの？\n",
        "ここで何となく想像していただきたいのですが、古典力学では説明がつかないようなことが量子力学では起きているということは、あくまでも古典力学でカバーしきれない理論を量子力学で補っているという関係があり、それをそのまま古典・量子コンピュータの方にも持ってきています。  \n",
        "すなわち、量子コンピュータが古典コンピュータの完全上位互換ということではなく、古典コンピュータでは難しかったことでも量子コンピュータなら計算できるかもしれないと仮説を立てるレベルの話になります。  \n",
        "実際に、量子コンピュータにも得意・不得意な計算は存在し、もっと言うとどんな分野で量子計算が役に立つのかということがほとんど分かっていないのが現状です。  \n",
        "そこで、最適化の分野で量子コンピュータの優位性が見られるのではないかと研究が盛んに行われているのですが、このシリーズのゴールとしては、その最適化の分野における量子コンピュータのユースケースが無いかを探ることになります！"
      ]
    },
    {
      "cell_type": "markdown",
      "metadata": {
        "id": "ADZKrye69lM0"
      },
      "source": [
        "## 量子計算\n",
        "---\n",
        "量子コンピュータで行う計算を「量子計算」と言います。  \n",
        "量子計算を行うための「ビット」に相当するのが「量子ビット」です。  \n",
        "その量子ビットの状態を変化させるのに必要なのが「量子回路」です。\n",
        "\n",
        "---\n",
        "### 量子ビット\n",
        "古典コンピュータでは、ビットは $0$ と $1$ のみで、それを $\\text{AND}, \\text{OR}, \\text{NOT}$ などの論理ゲートを通して計算を行っていました。  \n",
        "一方で、量子コンピュータでは、量子状態 $|0\\rangle$ や $|1\\rangle$ を重ね合わせた状態を、量子回路内にある量子ゲート(パウリゲートやアダマールゲート、CNOTゲートなど)を通して変化させて計算を行います。  \n",
        "重ね合わせ状態とは、次のような線型結合した状態を表します。\n",
        "\n",
        "$$\n",
        "| \\psi \\rangle = \\alpha |0\\rangle + \\beta |1\\rangle\n",
        "$$\n",
        "\n",
        "ここで、 $\\alpha, \\beta$ は次のような条件を満たす複素数です。\n",
        "\n",
        "$$\n",
        "|\\alpha|^2 + |\\beta|^2 = 1\n",
        "$$\n",
        "\n",
        "まずは簡単な量子状態 $|0\\rangle, |1\\rangle$ について、次のように定義します。\n",
        "\n",
        "$$\n",
        "|0\\rangle := \\begin{pmatrix} 1 \\\\ 0 \\\\ \\end{pmatrix}, \\quad |1\\rangle := \\begin{pmatrix} 0 \\\\ 1 \\\\ \\end{pmatrix}\n",
        "$$\n",
        "\n",
        "つまり、 $1$ 量子ビットの量子状態というのは、 $2$ 次の複素ベクトルとして表現することができるということです。  \n",
        "よって、一般的な量子状態 $| \\psi \\rangle$ は次のように表すことができます。\n",
        "\n",
        "$$\n",
        "| \\psi \\rangle = \\alpha |0\\rangle + \\beta |1\\rangle = \\alpha \\begin{pmatrix} 1 \\\\ 0 \\\\ \\end{pmatrix} + \\beta \\begin{pmatrix} 0 \\\\ 1 \\\\ \\end{pmatrix} = \\begin{pmatrix} \\alpha \\\\ \\beta \\\\ \\end{pmatrix}\n",
        "$$\n",
        "\n",
        "さらに、 $1$ 量子ビットの量子状態はBloch球と呼ばれる球体の球面上の点の位置にマッピングさせることができます。\n",
        "\n",
        "![ブロッホ球](https://qiita-user-contents.imgix.net/https%3A%2F%2Fqiita-image-store.s3.ap-northeast-1.amazonaws.com%2F0%2F2653215%2Fcf739e65-f29f-4759-835d-657d88124375.png?ixlib=rb-4.0.0&auto=format&gif-q=60&q=75&w=1400&fit=max&s=b2d8e2e98c854774ac8fd885d3daa0de)\n",
        "\n",
        "では、 $2$ 量子ビット以上になるとどうなるでしょうか？  \n",
        "量子状態 $|00\\rangle, |01\\rangle, |10\\rangle, |11\\rangle$ はそれぞれ次のように定義されます。\n",
        "\n",
        "$$\n",
        "\\begin{aligned}\n",
        "    |00\\rangle &:= \\begin{pmatrix} 1 \\\\ 0 \\end{pmatrix} \\otimes \\begin{pmatrix} 1 \\\\ 0 \\end{pmatrix} = \\begin{pmatrix} 1 \\\\ 0 \\\\ 0 \\\\ 0 \\end{pmatrix}, \\quad\n",
        "    |01\\rangle := \\begin{pmatrix} 1 \\\\ 0 \\end{pmatrix} \\otimes \\begin{pmatrix} 0 \\\\ 1 \\end{pmatrix} = \\begin{pmatrix} 0 \\\\ 1 \\\\ 0 \\\\ 0 \\end{pmatrix}, \\\\\n",
        "    |10\\rangle &:= \\begin{pmatrix} 0 \\\\ 1 \\end{pmatrix} \\otimes \\begin{pmatrix} 1 \\\\ 0 \\end{pmatrix} = \\begin{pmatrix} 0 \\\\ 0 \\\\ 1 \\\\ 0 \\end{pmatrix}, \\quad\n",
        "    |11\\rangle := \\begin{pmatrix} 0 \\\\ 1 \\end{pmatrix} \\otimes \\begin{pmatrix} 0 \\\\ 1 \\end{pmatrix} = \\begin{pmatrix} 0 \\\\ 0 \\\\ 0 \\\\ 1 \\end{pmatrix}\n",
        "\\end{aligned}\n",
        "$$\n",
        "\n",
        "ここで、 $\\otimes$ という記号は、テンソル積を表しています。  \n",
        "テンソル積の計算は次のようなものになります。\n",
        "\n",
        "$$\n",
        "\\begin{pmatrix} \\alpha \\\\ \\beta \\end{pmatrix} \\otimes \\begin{pmatrix} \\gamma \\\\ \\delta \\end{pmatrix} = \\begin{pmatrix} \\alpha \\begin{pmatrix} \\gamma \\\\ \\delta \\end{pmatrix} \\\\ \\beta \\begin{pmatrix} \\gamma \\\\ \\delta \\end{pmatrix} \\end{pmatrix} = \\begin{pmatrix} \\alpha \\gamma \\\\ \\alpha \\delta \\\\ \\beta \\gamma \\\\ \\beta \\delta \\end{pmatrix}\n",
        "$$\n",
        "\n",
        "$n$ 量子ビットの場合、このテンソル積を使えば少ない量子ビットでの量子状態から表現が可能になるということです。  \n",
        "このとき、ベクトルの次数は $2^n$ となります。\n",
        "\n",
        "---\n",
        "### 量子回路\n",
        "量子回路は、様々な量子ゲートを組み合わせて量子状態を変化させるための一連の流れを図式化したものになります。  \n",
        "まずはどのような量子ゲートがあるかを見てみましょう。  \n",
        "$1$ 量子ビットゲートとして有名なものとして、以下の3種類を紹介します。\n",
        "\n",
        "- パウリゲート\n",
        "    - $X$ ゲート\n",
        "    - $Y$ ゲート\n",
        "    - $Z$ ゲート\n",
        "    - $I$ ゲート\n",
        "- アダマールゲート\n",
        "- 回転ゲート\n",
        "    - $R_x$ ゲート\n",
        "    - $R_y$ ゲート\n",
        "    - $R_z$ ゲート\n",
        "\n",
        "まずはパウリゲートですが、それぞれ次のように定義されます。\n",
        "\n",
        "$$\n",
        "\\begin{aligned}\n",
        "    X &= \\begin{pmatrix} 0 & 1 \\\\ 1 & 0 \\end{pmatrix}, \\quad\n",
        "    Y = \\begin{pmatrix} 0 & -i \\\\ -i & 0 \\end{pmatrix}, \\\\\n",
        "    Z &= \\begin{pmatrix} 1 & 0 \\\\ 0 & -1 \\end{pmatrix}, \\quad\n",
        "    I = \\begin{pmatrix} 1 & 0 \\\\ 0 & 1 \\end{pmatrix}\n",
        "\\end{aligned}\n",
        "$$\n",
        "\n",
        "これらの量子ゲートをパウリゲートと言い、それぞれ量子状態 $|0\\rangle, |1\\rangle$ に対して次のように作用します。\n",
        "\n",
        "$$\n",
        "\\begin{aligned}\n",
        "    X &:\n",
        "    \\left\\{\n",
        "        \\begin{array}{l}\n",
        "            |0\\rangle \\rightarrow |1\\rangle \\\\\n",
        "            |1\\rangle \\rightarrow |0\\rangle\n",
        "        \\end{array}\n",
        "    \\right., \\quad Y :\n",
        "    \\left\\{\n",
        "        \\begin{array}{l}\n",
        "            |0\\rangle \\rightarrow i|1\\rangle \\\\\n",
        "            |1\\rangle \\rightarrow -i|0\\rangle\n",
        "        \\end{array}\n",
        "    \\right., \\\\\n",
        "    Z &:\n",
        "    \\left\\{\n",
        "        \\begin{array}{l}\n",
        "            |0\\rangle \\rightarrow |0\\rangle \\\\\n",
        "            |1\\rangle \\rightarrow -|1\\rangle\n",
        "        \\end{array}\n",
        "    \\right., \\quad I :\n",
        "    \\left\\{\n",
        "        \\begin{array}{l}\n",
        "            |0\\rangle \\rightarrow |0\\rangle \\\\\n",
        "            |1\\rangle \\rightarrow |1\\rangle\n",
        "        \\end{array}\n",
        "    \\right.\n",
        "\\end{aligned}\n",
        "$$\n",
        "\n",
        "続いて、アダマールゲート($H$ ゲート)は次のように定義されます。\n",
        "\n",
        "$$\n",
        "\\begin{aligned}\n",
        "    H &= \\frac{1}{\\sqrt{2}} \\begin{pmatrix} 1 & 1 \\\\ 1 & -1 \\end{pmatrix}, \\\\ \\\\\n",
        "    H &:\n",
        "    \\left\\{\n",
        "        \\begin{array}{l}\n",
        "            |0\\rangle \\rightarrow \\frac{1}{\\sqrt{2}}\\left(|0\\rangle + |1\\rangle\\right) \\\\\n",
        "            |1\\rangle \\rightarrow \\frac{1}{\\sqrt{2}}\\left(|0\\rangle - |1\\rangle\\right)\n",
        "        \\end{array}\n",
        "    \\right.\n",
        "\\end{aligned}\n",
        "$$\n",
        "\n",
        "ここまでに定義された5種類の量子ゲートは、定義から次のことが言えます。\n",
        "\n",
        "$$\n",
        "X^2 = Y^2 = Z^2 = H^2 = I\n",
        "$$\n",
        "\n",
        "最後に回転ゲートですが、それぞれ次のように定義されます。\n",
        "\n",
        "$$\n",
        "\\begin{aligned}\n",
        "    &R_x(\\theta') =\n",
        "    \\begin{pmatrix}\n",
        "        \\cos\\left(\\frac{\\theta'}{2}\\right) & -i\\sin\\left(\\frac{\\theta'}{2}\\right) \\\\\n",
        "        -i\\sin\\left(\\frac{\\theta'}{2}\\right) & \\cos\\left(\\frac{\\theta'}{2}\\right)\n",
        "    \\end{pmatrix}, \\notag \\\\\n",
        "    &R_y(\\theta') =\n",
        "    \\begin{pmatrix}\n",
        "        \\cos\\left(\\frac{\\theta'}{2}\\right) & -\\sin\\left(\\frac{\\theta'}{2}\\right) \\\\\n",
        "        \\sin\\left(\\frac{\\theta'}{2}\\right) & \\cos\\left(\\frac{\\theta'}{2}\\right)\n",
        "    \\end{pmatrix}, \\notag \\\\\n",
        "    &R_z(\\theta') =\n",
        "    \\begin{pmatrix}\n",
        "        e^{-i\\frac{\\theta'}{2}} & 0 \\\\\n",
        "        0 & e^{i\\frac{\\theta'}{2}}\n",
        "    \\end{pmatrix}\n",
        "\\end{aligned}\n",
        "$$\n",
        "\n",
        "ここで、 $\\theta'$ はBloch球上の各軸を起点にどれだけ回転させるかの角度を表しています。  \n",
        "量子状態 $|0\\rangle, |1\\rangle$ に対しての作用はそれぞれ次のようになります。\n",
        "\n",
        "$$\n",
        "\\begin{aligned}\n",
        "    &R_x(\\theta') :\n",
        "    \\left\\{\n",
        "        \\begin{array}{l}\n",
        "            |0\\rangle \\rightarrow \\cos\\left(\\frac{\\theta'}{2}\\right)|0\\rangle - i\\sin\\left(\\frac{\\theta'}{2}\\right)|1\\rangle \\\\\n",
        "            |1\\rangle \\rightarrow -i\\sin\\left(\\frac{\\theta'}{2}\\right)|0\\rangle + \\cos\\left(\\frac{\\theta'}{2}\\right)|1\\rangle\n",
        "        \\end{array}\n",
        "    \\right., \\\\\n",
        "    &R_y(\\theta') :\n",
        "    \\left\\{\n",
        "        \\begin{array}{l}\n",
        "            |0\\rangle \\rightarrow \\cos\\left(\\frac{\\theta'}{2}\\right)|0\\rangle + \\sin\\left(\\frac{\\theta'}{2}\\right)|1\\rangle \\\\\n",
        "            |1\\rangle \\rightarrow -i\\sin\\left(\\frac{\\theta'}{2}\\right)|0\\rangle + \\cos\\left(\\frac{\\theta'}{2}\\right)|1\\rangle\n",
        "        \\end{array}\n",
        "    \\right., \\\\\n",
        "    &R_z(\\theta') :\n",
        "    \\left\\{\n",
        "        \\begin{array}{l}\n",
        "            |0\\rangle \\rightarrow e^{-i\\frac{\\theta'}{2}}|0\\rangle \\\\\n",
        "            |1\\rangle \\rightarrow e^{i\\frac{\\theta'}{2}}|1\\rangle\n",
        "        \\end{array}\n",
        "    \\right.\n",
        "\\end{aligned}\n",
        "$$\n",
        "\n",
        "今度は $2$ 量子ビットゲートとして有名なものを1つ紹介します。  \n",
        "テンソル積の考えをベクトルから行列に拡張することにより、 $1$ 量子ビットゲート $U, V$ のテンソル積 $U \\otimes V$ を $| \\psi_0 \\rangle \\otimes | \\psi_1 \\rangle$ に作用させられる $2$ 量子ビットゲートが作れます。  \n",
        "一方で、元から $2$ 量子ビットに対して作用させるための量子ゲートも存在し、その1つがCNOTゲートです。\n",
        "\n",
        "$$\n",
        "\\begin{aligned}\n",
        "    \\text{CNOT} &= \\begin{pmatrix} 1 & 0 & 0 & 0 \\\\ 0 & 1 & 0 & 0 \\\\ 0 & 0 & 0 & 1 \\\\ 0 & 0 & 1 & 0 \\end{pmatrix}, \\\\ \\\\\n",
        "    \\text{CNOT} &:\n",
        "    \\left\\{\n",
        "        \\begin{array}{l}\n",
        "            |0\\rangle \\otimes |0\\rangle \\rightarrow |0\\rangle \\otimes |0\\rangle \\\\\n",
        "            |0\\rangle \\otimes |1\\rangle \\rightarrow |0\\rangle \\otimes |1\\rangle \\\\\n",
        "            |1\\rangle \\otimes |0\\rangle \\rightarrow |1\\rangle \\otimes |1\\rangle \\\\\n",
        "            |1\\rangle \\otimes |1\\rangle \\rightarrow |1\\rangle \\otimes |0\\rangle\n",
        "        \\end{array}\n",
        "    \\right.\n",
        "\\end{aligned}\n",
        "$$\n",
        "\n",
        "この作用を見ると、1つ目の量子ビットが $|0\\rangle$ のときは2つ目の量子ビットに何もせず、1つ目の量子ビットが $|1\\rangle$ のときは2つ目の量子ビットを反転させていることがわかります。  \n",
        "この参照している1つ目の量子ビットのことを制御量子ビット、またはコントロール量子ビットと呼び、反転させる2つ目の量子ビットをターゲット量子ビットと呼びます。\n",
        "\n",
        "さて、ここで量子計算特有の「量子もつれ」というものを作ってみましょう。  \n",
        "これは古典計算では非常に作るのが難しい状態ですが、上で定義されてきたことを踏まえると簡単に出来てしまいます！  \n",
        "その前に、一度テンソル積について見直しましょう。  \n",
        "先ほど2つの $1$ 量子ビットのテンソル積を定義しましたが、このテンソル積で表現できる状態のことを積状態と言います。  \n",
        "一方で、 $1$ 量子ビットのテンソル積のみで記述できない状態も存在し、これらを量子もつれ、またはエンタングルメントと言います。  \n",
        "例えば、次のような $2$ 量子ビットの状態があると考えてみましょう。\n",
        "\n",
        "$$\n",
        "| \\psi_0 \\rangle \\otimes | \\psi_1 \\rangle = \\begin{pmatrix} \\alpha \\gamma \\\\ \\alpha \\delta \\\\ \\beta \\gamma \\\\ \\beta \\delta \\end{pmatrix} = \\frac{1}{\\sqrt{2}} \\left(|00\\rangle + |11\\rangle\\right) = \\frac{1}{\\sqrt{2}} \\begin{pmatrix} 1 \\\\ 0 \\\\ 0 \\\\ 1 \\end{pmatrix}\n",
        "$$\n",
        "\n",
        "この等式が正しい場合、 $\\alpha \\gamma = \\frac{1}{\\sqrt{2}}, \\alpha \\delta = 0, \\beta \\gamma = 0, \\beta \\delta = \\frac{1}{\\sqrt{2}}$ が同時に成り立つ必要があります。  \n",
        "$\\alpha \\delta = 0$ より $\\alpha, \\delta$ は複素数なので $\\alpha = 0$ または $\\delta = 0$ です。  \n",
        "ここで、 $\\alpha = 0$ であるならば、 $\\alpha \\gamma = \\frac{1}{\\sqrt{2}}$ は成り立ちませんし、 $\\delta = 0$ であるならば $\\beta \\delta = \\frac{1}{\\sqrt{2}}$ が成り立ちません。  \n",
        "よって4つの等式を同時に満たすことはできないため、状態 $\\frac{1}{\\sqrt{2}} \\left(|00\\rangle + |11\\rangle\\right)$ は2つの $1$ 量子ビットのテンソル積で表せないことが分かりました。  \n",
        "この量子もつれをベル状態と言います。  \n",
        "ベル状態にはいくつか種類があり、次のようなものです。\n",
        "\n",
        "$$\n",
        "|Bell\\rangle = \\frac{1}{\\sqrt{2}} \\left(|00\\rangle \\pm |11\\rangle\\right), \\quad \\frac{1}{\\sqrt{2}} \\left(|01\\rangle \\pm |10\\rangle\\right)\n",
        "$$\n",
        "\n",
        "このベル状態を作る量子回路を作ってみましょう。  \n",
        "まず、 $2$ 量子ビット $|00\\rangle$ を用意し、片方の量子ビットにアダマールゲートをかけます。\n",
        "\n",
        "$$\n",
        "(H \\otimes I) |00\\rangle = \\frac{1}{\\sqrt{2}} \\left(|00\\rangle + |10\\rangle\\right)\n",
        "$$\n",
        "\n",
        "次に、アダマールゲートを作用させた方の量子ビットを制御量子ビットとしてCNOTゲートを作用させます。\n",
        "\n",
        "$$\n",
        "\\text{CNOT}_{0, 1} \\frac{1}{\\sqrt{2}} \\left(|00\\rangle + |10\\rangle\\right) = \\frac{1}{\\sqrt{2}} \\left(|00\\rangle + |11\\rangle\\right)\n",
        "$$\n",
        "\n",
        "このとき、 $|00\\rangle$ では制御量子ビットが $|0\\rangle$ なので何も変化しませんが、 $|10\\rangle$ では制御量子ビットが $|1\\rangle$ なのでターゲット量子ビットが反転し、 $|11\\rangle$ となります。  \n",
        "また、 $\\text{CNOT}_{0, 1}$ は $0$ 番目の量子ビットを制御量子ビットに、 $1$ 番目の量子ビットをターゲット量子ビットにすることを意味しています。  \n",
        "$3$ 量子ビット以上の2種類の量子もつれが起こる状態を一般に、Greenberger, Horne, Zeilingerの3名の頭文字をとってGHZ状態と呼びます。"
      ]
    },
    {
      "cell_type": "markdown",
      "metadata": {
        "id": "gMI7nBfkRCGn"
      },
      "source": [
        "## Qiskitを使ったプログラミング\n",
        "---\n",
        "ここからは、いよいよQiskitを使って量子計算をしてみましょう！  \n",
        "まずはGoogle Colaboratoryの環境下にQiskit系のライブラリをダウンロードして使えるようにします。"
      ]
    },
    {
      "cell_type": "code",
      "execution_count": null,
      "metadata": {
        "id": "xSfvc8yOPO_w"
      },
      "outputs": [],
      "source": [
        "!pip3 install qiskit[visualization] qiskit-ibm-runtime qiskit-aer"
      ]
    },
    {
      "cell_type": "markdown",
      "metadata": {
        "id": "sBMHdGO8VAwk"
      },
      "source": [
        "これでライブラリが使えるようになりましたので、早速プログラムを組んでみましょう！"
      ]
    },
    {
      "cell_type": "markdown",
      "metadata": {
        "id": "Aosiahz7Woww"
      },
      "source": [
        "### 量子回路の作成\n",
        "---\n",
        "まずはライブラリのインポートからしましょう。"
      ]
    },
    {
      "cell_type": "code",
      "execution_count": null,
      "metadata": {
        "id": "1oY1JCGmQ7wm"
      },
      "outputs": [],
      "source": [
        "# ライブラリのインポート\n",
        "from qiskit import __version__, QuantumCircuit\n",
        "from qiskit.transpiler.preset_passmanagers import generate_preset_pass_manager\n",
        "from qiskit.visualization import plot_histogram\n",
        "from qiskit_aer import AerSimulator, StatevectorSimulator\n",
        "from qiskit_ibm_runtime import QiskitRuntimeService, SamplerV2"
      ]
    },
    {
      "cell_type": "code",
      "execution_count": null,
      "metadata": {
        "id": "GIBnuxZ7baZI"
      },
      "outputs": [],
      "source": [
        "# Qiskitバージョン確認\n",
        "print(__version__)"
      ]
    },
    {
      "cell_type": "markdown",
      "metadata": {
        "id": "uOsSP0sWcgzT"
      },
      "source": [
        "ここでは量子回路を実際に作ってみます。  \n",
        "まずは量子ビットを用意して、量子ゲートを作用させる方法を紹介します。"
      ]
    },
    {
      "cell_type": "code",
      "execution_count": null,
      "metadata": {
        "id": "WAHLzdSYc37G"
      },
      "outputs": [],
      "source": [
        "# 1量子ビットの量子回路を作成\n",
        "qc_0 = QuantumCircuit(1)\n",
        "\n",
        "# X, Y, Z, Hゲートの作用のさせ方\n",
        "qc_0.x(0) # Xゲートを作用させる\n",
        "# qc_0.y(0) # Yゲートを作用させる\n",
        "# qc_0.z(0) # Zゲートを作用させる\n",
        "# qc_0.h(0) # Hゲートを作用させる\n",
        "\n",
        "# 量子回路を図(画像)で表示\n",
        "qc_0.draw(\"mpl\")"
      ]
    },
    {
      "cell_type": "markdown",
      "metadata": {
        "id": "RzcPJH3reX74"
      },
      "source": [
        "簡単に解説しますと、 `QuantumCircuit` クラスのインスタンス `qc_0` は、\n",
        "\n",
        "```\n",
        "qc_0 = QuantumCircuit(1)\n",
        "```\n",
        "\n",
        "より $1$ 量子ビットの量子回路の基盤を作るというものになります。  \n",
        "ここで引数を `2` や `3` に変更することにより $n$ 量子ビットの量子回路を作成することができます。  \n",
        "\n",
        "続いて、この量子回路インスタンスに対してゲートを作用させるには、 `qc_0.x(0)` のように対応するメソッドを実行します。  \n",
        "この場合、 $X$ ゲートを作用させるという意味になり、引数 `0` は $0$ 番目の量子ビットに作用させるということになります。  \n",
        "もちろん今回は $1$ 量子ビットの量子回路なので、 `1` 以上の引数を入れるとエラーが発生します。  \n",
        "他にも量子ゲートを作用させる方法はあるのですが、少しややこしいのでまずはこれで慣れるようにしましょう。\n",
        "\n",
        "そして、出来た量子回路を表示するのが `draw()` メソッドになります。  \n",
        "引数には `\"mpl\"` や `\"latex\"`などのオプションがあります。  \n",
        "今回は画像として表示/保存できる `\"mpl\"` を用いています。  \n",
        "\n",
        "では、先ほど学んだベル状態の量子回路を作って描画してみましょう！"
      ]
    },
    {
      "cell_type": "code",
      "execution_count": null,
      "metadata": {
        "id": "hNwatEfnhsr8"
      },
      "outputs": [],
      "source": [
        "# 2量子ビットの量子回路を作成\n",
        "qc_1 = QuantumCircuit(2)\n",
        "\n",
        "# アダマールゲートを作用\n",
        "qc_1.h(0)\n",
        "\n",
        "# CNOTゲートを作用\n",
        "qc_1.cx(0, 1) # NOTはXと同じ意味なのでCNOTゲートを作用させるメソッドは .cx() となる\n",
        "\n",
        "# 量子回路を図(画像)で表示\n",
        "qc_1.draw(\"mpl\")"
      ]
    },
    {
      "cell_type": "markdown",
      "metadata": {
        "id": "38e-PpVu5ARY"
      },
      "source": [
        "このような図が描画できました！  \n",
        "1つ目の量子ビットにアダマールゲートがかかり、それを制御量子ビット、2つ目の量子ビットをターゲット量子ビットとしてCNOTゲートをかけていることが分かります。"
      ]
    },
    {
      "cell_type": "markdown",
      "metadata": {
        "id": "uXTHhqZXdAE1"
      },
      "source": [
        "### シミュレーション\n",
        "---\n",
        "量子回路を作成し、描画することが出来ました。  \n",
        "しかし、これだけでは本当にベル状態が作れているのかがわかりません。  \n",
        "状態ベクトルシミュレータを使って量子状態を確認してみましょう。"
      ]
    },
    {
      "cell_type": "code",
      "execution_count": null,
      "metadata": {
        "id": "gW626iBn3_Rc"
      },
      "outputs": [],
      "source": [
        "# 状態ベクトルシミュレータの実行\n",
        "backend = StatevectorSimulator()\n",
        "result = backend.run(qc_1).result()\n",
        "\n",
        "# 量子状態のベクトルを出力\n",
        "state_vec = result.get_statevector(qc_1)\n",
        "print(state_vec)"
      ]
    },
    {
      "cell_type": "markdown",
      "metadata": {
        "id": "3UHnzegh5pv6"
      },
      "source": [
        "状態ベクトルシミュレータは、作成した量子回路が最終的にどのような量子状態になるのかを実際に計算するシミュレータです。  \n",
        "Qiskit Aerライブラリの `StatevectorSimulator()` クラスを使うことでできるようになります。  \n",
        "そして出力結果の1つ目の要素に、状態ベクトルが格納されています。  \n",
        "ベル状態のベクトル\n",
        "\n",
        "$$\n",
        "\\frac{1}{\\sqrt{2}} \\left(|00\\rangle + |11\\rangle\\right) = \\frac{1}{\\sqrt{2}} \\begin{pmatrix} 1 \\\\ 0 \\\\ 0 \\\\ 1 \\end{pmatrix}\n",
        "$$\n",
        "\n",
        "と比べると、係数 $\\frac{1}{\\sqrt{2}} \\approx 0.70710678$ が一致していることがわかります。  \n",
        "\n",
        "今度は「測定」まで行ってみましょう。  \n",
        "量子コンピュータでは、量子回路が生成する状態を途中で確認することが出来ません。  \n",
        "その量子回路によって状態が変化した量子ビットを繰り返し読むことで、その状態が持つ確率分布を調べることが出来ます。  \n",
        "これを測定と言います。"
      ]
    },
    {
      "cell_type": "code",
      "execution_count": null,
      "metadata": {
        "id": "dg7yuWaoOxb9"
      },
      "outputs": [],
      "source": [
        "# 2量子ビットの量子回路を作成\n",
        "qc_2 = QuantumCircuit(2, 2) # 2つ目の引数は古典ビット数\n",
        "\n",
        "# ベル状態の作成\n",
        "qc_2.h(0)\n",
        "qc_2.cx(0, 1)\n",
        "\n",
        "# 測定\n",
        "for i in range(2):\n",
        "    qc_2.measure(i, i) # measure() メソッドの引数は measure(\"測定する量子ビットのインデックス\", \"測定結果を保存する古典レジスタのインデックス\") を表す\n",
        "\n",
        "# 量子回路を図(画像)で表示\n",
        "qc_2.draw(\"mpl\")"
      ]
    },
    {
      "cell_type": "markdown",
      "metadata": {
        "id": "YUk8xqw2Q8c7"
      },
      "source": [
        "先ほどの回路とは少し異なるのが分かります。  \n",
        "右側にメーターのようなアイコンのゲートが2つ出来ていると思いますが、こちらで測定を行います。  \n",
        "また、一番下に $c$ とありますが、これは古典レジスタというところに古典ビットとして情報を送信しています。  \n",
        "この古典レジスタにあるものが量子計算の結果ということになります。"
      ]
    },
    {
      "cell_type": "code",
      "execution_count": null,
      "metadata": {
        "id": "F6Avg5MOPeDE"
      },
      "outputs": [],
      "source": [
        "# バックエンドにシミュレータを設定\n",
        "backend = AerSimulator()\n",
        "\n",
        "# Sampler を使用しシミュレーション\n",
        "sampler = SamplerV2(backend)\n",
        "result = sampler.run([qc_2], shots=1024).result() # 1024回測定を行う\n",
        "\n",
        "# 測定結果の出力\n",
        "counts = result[0].data.c.get_counts()\n",
        "print(counts)\n",
        "\n",
        "# ヒストグラムを描画\n",
        "plot_histogram(counts)"
      ]
    },
    {
      "cell_type": "markdown",
      "metadata": {
        "id": "DP3b4I1udOj-"
      },
      "source": [
        "ほぼ等確率で $|00\\rangle$ と $|11\\rangle$ が測定されているのが確認出来ました！"
      ]
    },
    {
      "cell_type": "markdown",
      "metadata": {
        "id": "MiHvoc4zfYDN"
      },
      "source": [
        "### 実機実験\n",
        "---\n",
        "今度は実際の量子コンピュータを使って実験してみましょう。  \n",
        "まずはIBM Quantum Platformのアカウントにログインします。  \n",
        "そこにあるトークンをコピーして、以下のコードの `QiskitRuntimeService.save_account(token=\"\")` の中に入れます。  \n",
        "すると自身のIBM Quantum Platformと連携出来るので、実機が使えるようになります。"
      ]
    },
    {
      "cell_type": "code",
      "execution_count": null,
      "metadata": {
        "id": "GA8FAhqtgOga"
      },
      "outputs": [],
      "source": [
        "# アカウント情報を連携\n",
        "QiskitRuntimeService.save_account(\n",
        "    channel=\"ibm_quantum\",\n",
        "    instance=\"ibm-q/open/main\",\n",
        "    token=\"hogehoge\",\n",
        "    overwrite=True\n",
        ")\n",
        "\n",
        "# 使える実機を確認\n",
        "service = QiskitRuntimeService()\n",
        "print(service.backends())"
      ]
    },
    {
      "cell_type": "markdown",
      "metadata": {
        "id": "1B8Ckhi7sQam"
      },
      "source": [
        "上記で表示された実機をバックエンドに指定します。  \n",
        "各実機は、全ての量子ゲートを自在に扱えるわけではありません。  \n",
        "実機ごとにトポロジカルな制約があるため、それに合わせるように「翻訳」します。  \n",
        "よって、先ほど作った量子回路とは全く異なる形の量子回路が生成されるのですが、やっている計算そのものは同じなので安心してください。  \n",
        "また、馴染みのない量子ゲートも出てきますが、そこも今は理解する必要はありません。"
      ]
    },
    {
      "cell_type": "code",
      "execution_count": null,
      "metadata": {
        "id": "BQhFqBj6iovb"
      },
      "outputs": [],
      "source": [
        "# 実機の選択\n",
        "backend = service.backend(\"ibm_kyiv\")\n",
        "\n",
        "# 実機が扱える量子ゲートのみで量子回路を再構築\n",
        "pm = generate_preset_pass_manager(backend=backend, optimization_level=1)\n",
        "isa_qc_2 = pm.run(qc_2)\n",
        "isa_qc_2.draw(\"mpl\", idle_wires=False)"
      ]
    },
    {
      "cell_type": "markdown",
      "metadata": {
        "id": "T2hvqb8563rH"
      },
      "source": [
        "それでは、実機での実験をしましょう。  \n",
        "IBM Quantum Platformの方でもジョブが反映されると思うので、そちらも適宜確認してください。"
      ]
    },
    {
      "cell_type": "code",
      "execution_count": null,
      "metadata": {
        "id": "ximMIvq6jk1v"
      },
      "outputs": [],
      "source": [
        "# Sampler でサンプリングしてジョブを作成\n",
        "sampler = SamplerV2(backend)\n",
        "running_job = sampler.run([isa_qc_2], shots=1024)\n",
        "\n",
        "# ジョブのIDを取得\n",
        "job_id = running_job.job_id()\n",
        "print(f\"Job ID:\\t{job_id}\")\n",
        "\n",
        "# ジョブIDと照合\n",
        "job = service.job(job_id)\n",
        "\n",
        "# ステータスの確認\n",
        "print(f\"Job Status:\\t{job.status()}\")"
      ]
    },
    {
      "cell_type": "markdown",
      "metadata": {
        "id": "mrw8r_Em9AkL"
      },
      "source": [
        "こちら、すぐの状態だとステータスは `\"QUEUED\"` となるかと思います。  \n",
        "実機にジョブを投げるときに、先客がいるとキューに入った状態がしばらく続きます。  \n",
        "こちらが `\"DONE\"` になるまで待たなければ次のプログラムを実行することは出来ません。  \n",
        "ただし、上記セルを再度実行してしまうと新しいジョブを作成することになり、結局また待つことになってしまいます。  \n",
        "最後2行の\n",
        "\n",
        "```\n",
        "job = service.job(job_id)\n",
        "print(f\"Job Status:\\t{job.status()}\")\n",
        "```\n",
        "\n",
        "こちらだけをコピーして新しいセルで実行してステータスを確認するか、IBM Quantum Platformで実行が終わったことを確認するのが良いと思います。  \n",
        "もし、そのまま下記の結果確認まで同じセル内で完結させたいのであれば、 `while` 文と time ライブラリを駆使してステータスが `\"DONE\"` になったら次に進むというような形を取るのが良いかもしれません。"
      ]
    },
    {
      "cell_type": "code",
      "execution_count": null,
      "metadata": {
        "id": "Rq2NNC8_lrf2"
      },
      "outputs": [],
      "source": [
        "# ジョブの結果を確認\n",
        "result = job.result()\n",
        "counts = result[0].data.c.get_counts()\n",
        "print(counts)\n",
        "\n",
        "# ヒストグラムを描画\n",
        "plot_histogram(counts)"
      ]
    },
    {
      "cell_type": "markdown",
      "metadata": {
        "id": "PGx2sNlQ-oDB"
      },
      "source": [
        "結果が返ってきました！  \n",
        "これを見ると、ほとんどの場合 $|00\\rangle$ と $|11\\rangle$ になっているものの、少数だけ $|01\\rangle$ と $|10\\rangle$ が現れています。  \n",
        "これは量子コンピュータ特有のエラーによるものです。  \n",
        "エラーの原因はいくつかあるのですが、これらを軽減するために日々研究が行われています。  \n",
        "特に、今はNISQ時代と言われていて、ノイズありの中規模な量子コンピュータでしか実験が行えないため、エラーを考慮したアルゴリズムが開発されてきています。  \n",
        "それに対し、誤り耐性量子コンピュータ、通称FTQCの実用化もそう遠くない未来に出来ると予想されています。  \n",
        "今後に期待ですね！"
      ]
    }
  ],
  "metadata": {
    "colab": {
      "authorship_tag": "ABX9TyNegEbsArzBR8ZJURQiBTKQ",
      "include_colab_link": true,
      "private_outputs": true,
      "provenance": []
    },
    "kernelspec": {
      "display_name": "Python 3",
      "name": "python3"
    },
    "language_info": {
      "name": "python"
    }
  },
  "nbformat": 4,
  "nbformat_minor": 0
}
